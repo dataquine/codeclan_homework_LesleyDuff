{
 "cells": [
  {
   "cell_type": "markdown",
   "id": "775e4feb",
   "metadata": {},
   "source": [
    "# Homework Week 12, Day 01"
   ]
  },
  {
   "cell_type": "markdown",
   "id": "40e2a1ec",
   "metadata": {},
   "source": [
    "## Question 1"
   ]
  },
  {
   "cell_type": "code",
   "execution_count": 1,
   "id": "03fdf783",
   "metadata": {},
   "outputs": [],
   "source": [
    "# Create a list with the following data, and assign it to a variable named shopping: 'spam' 'ham' 'eggs' 'ham'\n",
    "shopping = ['spam', 'ham', 'eggs', 'ham']"
   ]
  },
  {
   "cell_type": "code",
   "execution_count": 2,
   "id": "67c80f60",
   "metadata": {},
   "outputs": [
    {
     "data": {
      "text/plain": [
       "'ham'"
      ]
     },
     "execution_count": 2,
     "metadata": {},
     "output_type": "execute_result"
    }
   ],
   "source": [
    "# Extract the second element of the list.\n",
    "shopping[1]"
   ]
  },
  {
   "cell_type": "code",
   "execution_count": 3,
   "id": "e71892ca",
   "metadata": {},
   "outputs": [
    {
     "data": {
      "text/plain": [
       "['spam', 'ham', 'eggs']"
      ]
     },
     "execution_count": 3,
     "metadata": {},
     "output_type": "execute_result"
    }
   ],
   "source": [
    "# Extract the first to third (inclusive) element of the list.\n",
    "shopping[0:3]"
   ]
  },
  {
   "cell_type": "code",
   "execution_count": 4,
   "id": "d0e57e28",
   "metadata": {},
   "outputs": [
    {
     "data": {
      "text/plain": [
       "'ham'"
      ]
     },
     "execution_count": 4,
     "metadata": {},
     "output_type": "execute_result"
    }
   ],
   "source": [
    "# Extract only the last element of the list.\n",
    "shopping[-1]"
   ]
  },
  {
   "cell_type": "markdown",
   "id": "1dc3b3ec",
   "metadata": {},
   "source": [
    "## Question 2\n",
    "Set up a list with the following elements:\n",
    "```\n",
    "stops = [\"Croy\", \"Cumbernauld\", \"Falkirk High\", \"Linlithgow\", \"Livingston\", \"Haymarket\"]\n",
    "```\n",
    "Perform the following:\n",
    "\n",
    "Append Edinburgh Waverley to the end of the list\n",
    "Add \"Queen Street\" to the start of the list\n",
    "Find out what index \"Croy\" is at in the list\n",
    "Add \"Polmont\" at the appropriate point (between \"Falkirk High\" and \"Linlithgow\")\n",
    "Remove \"Haymarket\" from the list of stops\n",
    "Remove all items from stops\n",
    "Hint: Some of these methods will change the original object stops. If you make any unwanted changes and want to go back to the original object you can re-run the code chunks where we created the object stops and then appended \"Edinburgh Waverley\"."
   ]
  },
  {
   "cell_type": "code",
   "execution_count": 5,
   "id": "58b1aa42",
   "metadata": {},
   "outputs": [],
   "source": [
    "# Set up a list with the following elements:\n",
    "stops = [\"Croy\", \"Cumbernauld\", \"Falkirk High\", \"Linlithgow\", \"Livingston\", \"Haymarket\"]"
   ]
  },
  {
   "cell_type": "code",
   "execution_count": 6,
   "id": "ccb4a724",
   "metadata": {},
   "outputs": [
    {
     "name": "stdout",
     "output_type": "stream",
     "text": [
      "['Croy', 'Cumbernauld', 'Falkirk High', 'Linlithgow', 'Livingston', 'Haymarket', 'Edinburgh Waverley']\n"
     ]
    }
   ],
   "source": [
    "# Append Edinburgh Waverley to the end of the list\n",
    "stops.append(\"Edinburgh Waverley\")\n",
    "print(stops)"
   ]
  },
  {
   "cell_type": "code",
   "execution_count": 7,
   "id": "4ae983a3",
   "metadata": {},
   "outputs": [
    {
     "name": "stdout",
     "output_type": "stream",
     "text": [
      "['Queen Street', 'Croy', 'Cumbernauld', 'Falkirk High', 'Linlithgow', 'Livingston', 'Haymarket', 'Edinburgh Waverley']\n"
     ]
    }
   ],
   "source": [
    "# Add \"Queen Street\" to the start of the list\n",
    "stops.insert(0, \"Queen Street\")\n",
    "print(stops)"
   ]
  },
  {
   "cell_type": "code",
   "execution_count": 8,
   "id": "4709793e",
   "metadata": {},
   "outputs": [
    {
     "name": "stdout",
     "output_type": "stream",
     "text": [
      "1\n"
     ]
    }
   ],
   "source": [
    "# Find out what index \"Croy\" is at in the list\n",
    "index_croy = stops.index(\"Croy\")\n",
    "print(index_croy)"
   ]
  },
  {
   "cell_type": "code",
   "execution_count": 9,
   "id": "87e0465c",
   "metadata": {},
   "outputs": [
    {
     "name": "stdout",
     "output_type": "stream",
     "text": [
      "['Queen Street', 'Croy', 'Cumbernauld', 'Falkirk High', 'Polmont', 'Linlithgow', 'Livingston', 'Haymarket', 'Edinburgh Waverley']\n"
     ]
    }
   ],
   "source": [
    "# Add \"Polmont\" at the appropriate point (between \"Falkirk High\" and \"Linlithgow\")\n",
    "index_linlithgow = stops.index(\"Linlithgow\")\n",
    "stops.insert(index_linlithgow, \"Polmont\")\n",
    "print(stops)"
   ]
  },
  {
   "cell_type": "code",
   "execution_count": 10,
   "id": "97116d13",
   "metadata": {},
   "outputs": [
    {
     "name": "stdout",
     "output_type": "stream",
     "text": [
      "['Queen Street', 'Croy', 'Cumbernauld', 'Falkirk High', 'Polmont', 'Linlithgow', 'Livingston', 'Edinburgh Waverley']\n"
     ]
    }
   ],
   "source": [
    "# Remove \"Haymarket\" from the list of stops\n",
    "stops.remove(\"Haymarket\")\n",
    "print(stops)"
   ]
  },
  {
   "cell_type": "code",
   "execution_count": 11,
   "id": "cdd42983",
   "metadata": {},
   "outputs": [
    {
     "name": "stdout",
     "output_type": "stream",
     "text": [
      "[]\n"
     ]
    }
   ],
   "source": [
    "# Remove all items from stops\n",
    "stops.clear()\n",
    "print(stops)"
   ]
  },
  {
   "cell_type": "markdown",
   "id": "f0b8bbe2",
   "metadata": {},
   "source": [
    "## Question 3\n",
    "Set up the following dictionary:\n",
    "```\n",
    "person = {\"name\": \"Steph\", \"age\": 31, \"Instructor\" : True}\n",
    "```\n",
    "Do the following:\n",
    "\n",
    "Return the keys, values and items from this dictionary\n",
    "\n",
    "Take out only the name from it\n",
    "\n",
    "Add a new key:value pair, which adds the email \"steph@codeclan.com\" to the dictionary\n",
    "\n",
    "Delete the job description from the dictionary (Hint: look up the del function)"
   ]
  },
  {
   "cell_type": "code",
   "execution_count": 12,
   "id": "04bdbaf5",
   "metadata": {},
   "outputs": [],
   "source": [
    "# Set up the following dictionary:\n",
    "person = {\"name\": \"Steph\", \"age\": 31, \"Instructor\" : True}"
   ]
  },
  {
   "cell_type": "code",
   "execution_count": 13,
   "id": "b55f7505",
   "metadata": {},
   "outputs": [
    {
     "name": "stdout",
     "output_type": "stream",
     "text": [
      "dict_keys(['name', 'age', 'Instructor'])\n",
      "dict_values(['Steph', 31, True])\n",
      "dict_items([('name', 'Steph'), ('age', 31), ('Instructor', True)])\n"
     ]
    }
   ],
   "source": [
    "# Return the keys, values and items from this dictionary\n",
    "print(person.keys())\n",
    "print(person.values())\n",
    "print(person.items())"
   ]
  },
  {
   "cell_type": "code",
   "execution_count": 14,
   "id": "2650128c",
   "metadata": {},
   "outputs": [
    {
     "name": "stdout",
     "output_type": "stream",
     "text": [
      "Steph\n"
     ]
    }
   ],
   "source": [
    "# Take out only the name from it\n",
    "print(person[\"name\"])"
   ]
  },
  {
   "cell_type": "code",
   "execution_count": 15,
   "id": "f8c54e0c",
   "metadata": {},
   "outputs": [
    {
     "name": "stdout",
     "output_type": "stream",
     "text": [
      "{'name': 'Steph', 'age': 31, 'Instructor': True, 'email': 'steph@codeclan.com'}\n"
     ]
    }
   ],
   "source": [
    "# Add a new key:value pair, which adds the email \"steph@codeclan.com\" to the dictionary\n",
    "person.update({\"email\": \"steph@codeclan.com\"})\n",
    "print(person)"
   ]
  },
  {
   "cell_type": "code",
   "execution_count": 16,
   "id": "e8ef11e7",
   "metadata": {},
   "outputs": [
    {
     "name": "stdout",
     "output_type": "stream",
     "text": [
      "{'name': 'Steph', 'age': 31, 'email': 'steph@codeclan.com'}\n"
     ]
    }
   ],
   "source": [
    "# Delete the job description from the dictionary (Hint: look up the del function)\n",
    "del person[\"Instructor\"]\n",
    "print(person)"
   ]
  },
  {
   "cell_type": "markdown",
   "id": "94bfd46b",
   "metadata": {},
   "source": [
    "## Question 4\n",
    "For the following list of numbers:\n",
    "```\n",
    "numbers = [1, 6, 2, 2, 7, 1, 6, 13, 99, 7]\n",
    "```\n",
    "Print out a list of the even integers:\n",
    "\n",
    "Print the difference between the largest and smallest value:\n",
    "\n",
    "Print True if the list contains a 2 next to a 2 somewhere.\n",
    "\n",
    "Print the sum of the numbers, BUT ignore any section of numbers starting with a 6 and extending to the next 7. So [11, 6, 4, 99, 7, 11] would have sum of 22"
   ]
  },
  {
   "cell_type": "code",
   "execution_count": 17,
   "id": "0dc4afe9",
   "metadata": {},
   "outputs": [],
   "source": [
    "numbers = [1, 6, 2, 2, 7, 1, 6, 13, 99, 7]"
   ]
  },
  {
   "cell_type": "code",
   "execution_count": 18,
   "id": "51349d65",
   "metadata": {},
   "outputs": [
    {
     "name": "stdout",
     "output_type": "stream",
     "text": [
      "[6, 2, 2, 6]\n"
     ]
    }
   ],
   "source": [
    "# Print out a list of the even integers:\n",
    "numbers_even = [number for number in numbers if number % 2 == 0]\n",
    "print(numbers_even)"
   ]
  },
  {
   "cell_type": "code",
   "execution_count": 19,
   "id": "8d86534c",
   "metadata": {},
   "outputs": [
    {
     "name": "stdout",
     "output_type": "stream",
     "text": [
      "98\n"
     ]
    }
   ],
   "source": [
    "# Print the difference between the largest and smallest value:\n",
    "numbers_largest = max(numbers)\n",
    "numbers_smallest = min(numbers)\n",
    "\n",
    "print(numbers_largest - numbers_smallest)"
   ]
  },
  {
   "cell_type": "code",
   "execution_count": 20,
   "id": "efef0c55",
   "metadata": {},
   "outputs": [
    {
     "name": "stdout",
     "output_type": "stream",
     "text": [
      "True\n"
     ]
    }
   ],
   "source": [
    "# Print True if the list contains a 2 next to a 2 somewhere.\n",
    "for i in range(0, len(numbers) - 1):\n",
    "    if (numbers[i] == numbers[i+1] == 2):\n",
    "        print(True)"
   ]
  },
  {
   "cell_type": "code",
   "execution_count": 21,
   "id": "18d83eee",
   "metadata": {},
   "outputs": [
    {
     "name": "stdout",
     "output_type": "stream",
     "text": [
      "2\n"
     ]
    }
   ],
   "source": [
    "# Print the sum of the numbers, BUT ignore any section of numbers starting \n",
    "# with a 6 and extending to the next 7. So [11, 6, 4, 99, 7, 11] would have sum of 22\n",
    "number_sum = 0\n",
    "found_six = False\n",
    "for number in numbers:\n",
    "    if (number == 6):\n",
    "        found_six = True\n",
    "    if (found_six == False):\n",
    "         number_sum += number\n",
    "    elif (number == 7):\n",
    "        found_six = False\n",
    "print(number_sum)"
   ]
  },
  {
   "cell_type": "markdown",
   "id": "9d4c2597",
   "metadata": {},
   "source": [
    "## Question 5\n",
    "Write a conditional that takes in two inputs :\n",
    "```\n",
    "python_is_fun = True\n",
    "python_is_weird = True\n",
    "```\n",
    "We want to print \"Woo Python!\" if either python_is_fun is true OR python_is_weird is true OR both python_is_fun and python_is_weird are true. Otherwise, print \"Python is not for me!\". Make sure you test all the combinations."
   ]
  },
  {
   "cell_type": "code",
   "execution_count": 22,
   "id": "c961f899",
   "metadata": {},
   "outputs": [
    {
     "name": "stdout",
     "output_type": "stream",
     "text": [
      "Woo Python!\n",
      "Woo Python!\n",
      "Python is not for me!\n",
      "Woo Python!\n"
     ]
    }
   ],
   "source": [
    "# Write a conditional that takes in two inputs :\n",
    "python_is_fun = True\n",
    "python_is_weird = True\n",
    "\n",
    "def test_python(python_is_fun, python_is_weird):\n",
    "    if (python_is_fun == True) or (python_is_weird == True):\n",
    "        return \"Woo Python!\"\n",
    "    else:\n",
    "        return \"Python is not for me!\"\n",
    "\n",
    "# Expected results\n",
    "# python_is_fun = True, python_is_fun = True, Expected: \"Woo Python!\"\n",
    "# python_is_fun = True, python_is_fun = False, Expected: \"Woo Python!\"\n",
    "# python_is_fun = False, python_is_fun = False, Expected: \"Python is not for me!\"\n",
    "# python_is_fun = False, python_is_fun = True, Expected: \"Woo Python!\"\n",
    "    \n",
    "python_is_fun = True\n",
    "python_is_weird = True\n",
    "print(test_python(python_is_fun, python_is_weird))\n",
    "\n",
    "python_is_fun = True\n",
    "python_is_weird = False\n",
    "print(test_python(python_is_fun, python_is_weird))\n",
    "\n",
    "python_is_fun = False\n",
    "python_is_weird = False\n",
    "print(test_python(python_is_fun, python_is_weird))\n",
    "\n",
    "python_is_fun = False\n",
    "python_is_weird = True\n",
    "print(test_python(python_is_fun, python_is_weird))"
   ]
  },
  {
   "cell_type": "markdown",
   "id": "2de91ae3",
   "metadata": {},
   "source": [
    "## Question 6\n",
    "We have a list of chickens and the farmer would like to go through all the chickens, collecting the eggs and getting the total number of eggs collected.\n",
    "\n",
    "```\n",
    "chickens = [\n",
    "  { \"name\": \"Margaret\", \"age\": 2, \"eggs\": 0 },\n",
    "  { \"name\": \"Hetty\", \"age\": 1, \"eggs\": 2 },\n",
    "  { \"name\": \"Henrietta\", \"age\": 3, \"eggs\": 1 },\n",
    "  { \"name\": \"Audrey\", \"age\": 2, \"eggs\": 0 },\n",
    "  { \"name\": \"Mabel\", \"age\": 5, \"eggs\": 1 },\n",
    "]\n",
    "```\n",
    "\n",
    "To write this as a loop, we'd do something like this:\n",
    "```\n",
    "total_eggs = 0\n",
    "\n",
    "for chicken in chickens:\n",
    "    total_eggs += chicken[\"eggs\"]\n",
    "    chicken[\"eggs\"] = 0 # eggs have been collected\n",
    "\n",
    "print(f\"{total_eggs} eggs collected\")\n",
    "```\n",
    "Instead, we want to define a function which passes in a list, so that if we wanted to count eggs of a different list of chickens from another farm, we can use the same function, just pass in a different list.\n",
    "\n",
    "We also want to return the string at the end, instead of using print."
   ]
  },
  {
   "cell_type": "code",
   "execution_count": 23,
   "id": "5674c644",
   "metadata": {},
   "outputs": [
    {
     "name": "stdout",
     "output_type": "stream",
     "text": [
      "4 eggs collected\n"
     ]
    }
   ],
   "source": [
    "def eggs_collected(chickens):\n",
    "    total_eggs = 0\n",
    "\n",
    "    for chicken in chickens:\n",
    "        total_eggs += chicken[\"eggs\"]\n",
    "        chicken[\"eggs\"] = 0 # eggs have been collected\n",
    "\n",
    "    return (f\"{total_eggs} eggs collected\")\n",
    "\n",
    "chickens = [\n",
    "  { \"name\": \"Margaret\", \"age\": 2, \"eggs\": 0 },\n",
    "  { \"name\": \"Hetty\", \"age\": 1, \"eggs\": 2 },\n",
    "  { \"name\": \"Henrietta\", \"age\": 3, \"eggs\": 1 },\n",
    "  { \"name\": \"Audrey\", \"age\": 2, \"eggs\": 0 },\n",
    "  { \"name\": \"Mabel\", \"age\": 5, \"eggs\": 1 },\n",
    "]\n",
    "\n",
    "print(eggs_collected(chickens))"
   ]
  }
 ],
 "metadata": {
  "kernelspec": {
   "display_name": "Python 3 (ipykernel)",
   "language": "python",
   "name": "python3"
  },
  "language_info": {
   "codemirror_mode": {
    "name": "ipython",
    "version": 3
   },
   "file_extension": ".py",
   "mimetype": "text/x-python",
   "name": "python",
   "nbconvert_exporter": "python",
   "pygments_lexer": "ipython3",
   "version": "3.10.9"
  }
 },
 "nbformat": 4,
 "nbformat_minor": 5
}
