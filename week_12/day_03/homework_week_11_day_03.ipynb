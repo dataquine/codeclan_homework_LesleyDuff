{
 "cells": [
  {
   "cell_type": "markdown",
   "id": "0d2c877b",
   "metadata": {},
   "source": [
    "# Homework: Joins & Tidy Data"
   ]
  },
  {
   "cell_type": "markdown",
   "id": "a136a4a6",
   "metadata": {},
   "source": [
    "## Question 1\n",
    "Read in all 4 credit card transaction datasets and clean up the column names.\n",
    "\n",
    "- CardBase.csv\n",
    "- CustomerBase.csv\n",
    "- FraudBase.csv\n",
    "- TransactionBase.csv"
   ]
  },
  {
   "cell_type": "code",
   "execution_count": 3,
   "id": "6f5e71e8",
   "metadata": {},
   "outputs": [],
   "source": [
    "import pandas as pd\n",
    "# conda install pyjanitor -c conda-forge\n",
    "from janitor import clean_names"
   ]
  },
  {
   "cell_type": "code",
   "execution_count": 4,
   "id": "fb74bb51",
   "metadata": {},
   "outputs": [],
   "source": [
    "card_base = pd.read_csv(\"data/CardBase.csv\")\n",
    "customer_base = pd.read_csv(\"data/CustomerBase.csv\")\n",
    "fraud_base = pd.read_csv(\"data/FraudBase.csv\")\n",
    "transaction_base = pd.read_csv(\"data/TransactionBase.csv\")"
   ]
  },
  {
   "cell_type": "code",
   "execution_count": null,
   "id": "4ff3c0f6",
   "metadata": {},
   "outputs": [],
   "source": []
  }
 ],
 "metadata": {
  "kernelspec": {
   "display_name": "Python 3 (ipykernel)",
   "language": "python",
   "name": "python3"
  },
  "language_info": {
   "codemirror_mode": {
    "name": "ipython",
    "version": 3
   },
   "file_extension": ".py",
   "mimetype": "text/x-python",
   "name": "python",
   "nbconvert_exporter": "python",
   "pygments_lexer": "ipython3",
   "version": "3.11.5"
  }
 },
 "nbformat": 4,
 "nbformat_minor": 5
}
