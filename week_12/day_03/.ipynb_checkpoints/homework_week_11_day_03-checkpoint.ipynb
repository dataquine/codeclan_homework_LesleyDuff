{
 "cells": [
  {
   "cell_type": "markdown",
   "id": "a60cb1f9",
   "metadata": {},
   "source": [
    "# Homework: Joins & Tidy Data"
   ]
  },
  {
   "cell_type": "markdown",
   "id": "b1eeb08a",
   "metadata": {},
   "source": [
    "## Question 1\n",
    "Read in all 4 credit card transaction datasets and clean up the column names.\n",
    "\n",
    "- CardBase.csv\n",
    "- CustomerBase.csv\n",
    "- FraudBase.csv\n",
    "- TransactionBase.csv"
   ]
  },
  {
   "cell_type": "code",
   "execution_count": null,
   "id": "68aafa76",
   "metadata": {},
   "outputs": [],
   "source": [
    "import pandas as pd\n",
    "# conda install pyjanitor -c conda-forge\n",
    "from janitor import clean_names"
   ]
  },
  {
   "cell_type": "code",
   "execution_count": null,
   "id": "d72311eb",
   "metadata": {},
   "outputs": [],
   "source": [
    "card_base = pd.read_csv(\"data/CardBase.csv\")\n",
    "customer_base = pd.read_csv(\"data/CustomerBase.csv\")\n",
    "fraud_base = pd.read_csv(\"data/FraudBase.csv\")\n",
    "transaction_base = pd.read_csv(\"data/TransactionBase.csv\")"
   ]
  },
  {
   "cell_type": "code",
   "execution_count": null,
   "id": "2b28c2fe",
   "metadata": {},
   "outputs": [],
   "source": [
    "#conda update -n base -c defaults conda"
   ]
  },
  {
   "cell_type": "code",
   "execution_count": null,
   "id": "5c57ceae",
   "metadata": {},
   "outputs": [],
   "source": [
    "# https://pyjanitor-devs.github.io/pyjanitor/\n",
    "df = pd.DataFrame.from_dict(card_base).clean_names()\n",
    "df\n",
    "#card_base = pd.clean_names(card_base)\n",
    "#print(card_base)"
   ]
  },
  {
   "cell_type": "code",
   "execution_count": null,
   "id": "01ec3bd4",
   "metadata": {},
   "outputs": [],
   "source": []
  },
  {
   "cell_type": "code",
   "execution_count": 11,
   "id": "4515534f",
   "metadata": {},
   "outputs": [
    {
     "data": {
      "text/html": [
       "<div>\n",
       "<style scoped>\n",
       "    .dataframe tbody tr th:only-of-type {\n",
       "        vertical-align: middle;\n",
       "    }\n",
       "\n",
       "    .dataframe tbody tr th {\n",
       "        vertical-align: top;\n",
       "    }\n",
       "\n",
       "    .dataframe thead th {\n",
       "        text-align: right;\n",
       "    }\n",
       "</style>\n",
       "<table border=\"1\" class=\"dataframe\">\n",
       "  <thead>\n",
       "    <tr style=\"text-align: right;\">\n",
       "      <th></th>\n",
       "      <th>Transaction_ID</th>\n",
       "      <th>Fraud_Flag</th>\n",
       "    </tr>\n",
       "  </thead>\n",
       "  <tbody>\n",
       "    <tr>\n",
       "      <th>0</th>\n",
       "      <td>CTID50558449</td>\n",
       "      <td>1</td>\n",
       "    </tr>\n",
       "    <tr>\n",
       "      <th>1</th>\n",
       "      <td>CTID55936882</td>\n",
       "      <td>1</td>\n",
       "    </tr>\n",
       "    <tr>\n",
       "      <th>2</th>\n",
       "      <td>CTID63762180</td>\n",
       "      <td>1</td>\n",
       "    </tr>\n",
       "    <tr>\n",
       "      <th>3</th>\n",
       "      <td>CTID76723439</td>\n",
       "      <td>1</td>\n",
       "    </tr>\n",
       "    <tr>\n",
       "      <th>4</th>\n",
       "      <td>CTID21246201</td>\n",
       "      <td>1</td>\n",
       "    </tr>\n",
       "  </tbody>\n",
       "</table>\n",
       "</div>"
      ],
      "text/plain": [
       "  Transaction_ID  Fraud_Flag\n",
       "0   CTID50558449           1\n",
       "1   CTID55936882           1\n",
       "2   CTID63762180           1\n",
       "3   CTID76723439           1\n",
       "4   CTID21246201           1"
      ]
     },
     "execution_count": 11,
     "metadata": {},
     "output_type": "execute_result"
    }
   ],
   "source": [
    "fraud_base.head()"
   ]
  },
  {
   "cell_type": "code",
   "execution_count": 12,
   "id": "e6cd5572",
   "metadata": {},
   "outputs": [
    {
     "data": {
      "text/html": [
       "<div>\n",
       "<style scoped>\n",
       "    .dataframe tbody tr th:only-of-type {\n",
       "        vertical-align: middle;\n",
       "    }\n",
       "\n",
       "    .dataframe tbody tr th {\n",
       "        vertical-align: top;\n",
       "    }\n",
       "\n",
       "    .dataframe thead th {\n",
       "        text-align: right;\n",
       "    }\n",
       "</style>\n",
       "<table border=\"1\" class=\"dataframe\">\n",
       "  <thead>\n",
       "    <tr style=\"text-align: right;\">\n",
       "      <th></th>\n",
       "      <th>Transaction_ID</th>\n",
       "      <th>Transaction_Date</th>\n",
       "      <th>Credit_Card_ID</th>\n",
       "      <th>Transaction_Value</th>\n",
       "      <th>Transaction_Segment</th>\n",
       "    </tr>\n",
       "  </thead>\n",
       "  <tbody>\n",
       "    <tr>\n",
       "      <th>0</th>\n",
       "      <td>CTID28830551</td>\n",
       "      <td>24-Apr-16</td>\n",
       "      <td>1629-9566-3285-2123</td>\n",
       "      <td>23649</td>\n",
       "      <td>SEG25</td>\n",
       "    </tr>\n",
       "    <tr>\n",
       "      <th>1</th>\n",
       "      <td>CTID45504917</td>\n",
       "      <td>11-Feb-16</td>\n",
       "      <td>3697-6001-4909-5350</td>\n",
       "      <td>26726</td>\n",
       "      <td>SEG16</td>\n",
       "    </tr>\n",
       "    <tr>\n",
       "      <th>2</th>\n",
       "      <td>CTID47312290</td>\n",
       "      <td>1-Nov-16</td>\n",
       "      <td>5864-4475-3659-1440</td>\n",
       "      <td>22012</td>\n",
       "      <td>SEG14</td>\n",
       "    </tr>\n",
       "    <tr>\n",
       "      <th>3</th>\n",
       "      <td>CTID25637718</td>\n",
       "      <td>28-Jan-16</td>\n",
       "      <td>5991-4421-8476-3804</td>\n",
       "      <td>37637</td>\n",
       "      <td>SEG17</td>\n",
       "    </tr>\n",
       "    <tr>\n",
       "      <th>4</th>\n",
       "      <td>CTID66743960</td>\n",
       "      <td>17-Mar-16</td>\n",
       "      <td>1893-8853-9900-8478</td>\n",
       "      <td>5113</td>\n",
       "      <td>SEG14</td>\n",
       "    </tr>\n",
       "  </tbody>\n",
       "</table>\n",
       "</div>"
      ],
      "text/plain": [
       "  Transaction_ID Transaction_Date       Credit_Card_ID  Transaction_Value  \\\n",
       "0   CTID28830551        24-Apr-16  1629-9566-3285-2123              23649   \n",
       "1   CTID45504917        11-Feb-16  3697-6001-4909-5350              26726   \n",
       "2   CTID47312290         1-Nov-16  5864-4475-3659-1440              22012   \n",
       "3   CTID25637718        28-Jan-16  5991-4421-8476-3804              37637   \n",
       "4   CTID66743960        17-Mar-16  1893-8853-9900-8478               5113   \n",
       "\n",
       "  Transaction_Segment  \n",
       "0               SEG25  \n",
       "1               SEG16  \n",
       "2               SEG14  \n",
       "3               SEG17  \n",
       "4               SEG14  "
      ]
     },
     "execution_count": 12,
     "metadata": {},
     "output_type": "execute_result"
    }
   ],
   "source": [
    "transaction_base.head()"
   ]
  },
  {
   "cell_type": "code",
   "execution_count": null,
   "id": "2d4d5f77",
   "metadata": {},
   "outputs": [],
   "source": []
  }
 ],
 "metadata": {
  "kernelspec": {
   "display_name": "Python 3 (ipykernel)",
   "language": "python",
   "name": "python3"
  },
  "language_info": {
   "codemirror_mode": {
    "name": "ipython",
    "version": 3
   },
   "file_extension": ".py",
   "mimetype": "text/x-python",
   "name": "python",
   "nbconvert_exporter": "python",
   "pygments_lexer": "ipython3",
   "version": "3.10.9"
  }
 },
 "nbformat": 4,
 "nbformat_minor": 5
}
